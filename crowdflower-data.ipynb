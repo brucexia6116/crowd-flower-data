{
 "cells": [
  {
   "cell_type": "code",
   "execution_count": 1,
   "metadata": {
    "collapsed": false
   },
   "outputs": [],
   "source": [
    "import spacy\n",
    "nlp = spacy.load('en_core_web_sm')\n",
    "import pandas as pd\n",
    "import numpy as np"
   ]
  },
  {
   "cell_type": "markdown",
   "metadata": {},
   "source": [
    "I randomly sampled these 50 (iid) from the 193 instances comprising our ACL test set. "
   ]
  },
  {
   "cell_type": "code",
   "execution_count": 3,
   "metadata": {
    "collapsed": false
   },
   "outputs": [
    {
     "data": {
      "text/html": [
       "<div>\n",
       "<table border=\"1\" class=\"dataframe\">\n",
       "  <thead>\n",
       "    <tr style=\"text-align: right;\">\n",
       "      <th></th>\n",
       "      <th>PMID</th>\n",
       "      <th>text</th>\n",
       "    </tr>\n",
       "  </thead>\n",
       "  <tbody>\n",
       "    <tr>\n",
       "      <th>0</th>\n",
       "      <td>18337284</td>\n",
       "      <td>Once-daily amoxicillin versus twice-daily peni...</td>\n",
       "    </tr>\n",
       "    <tr>\n",
       "      <th>1</th>\n",
       "      <td>24726342</td>\n",
       "      <td>Assessment of acute bronchodilator effects fro...</td>\n",
       "    </tr>\n",
       "    <tr>\n",
       "      <th>2</th>\n",
       "      <td>20618920</td>\n",
       "      <td>Effectiveness of hygienic-dietary recommendati...</td>\n",
       "    </tr>\n",
       "    <tr>\n",
       "      <th>3</th>\n",
       "      <td>16427787</td>\n",
       "      <td>Sleep-anticipating effects of melatonin in the...</td>\n",
       "    </tr>\n",
       "    <tr>\n",
       "      <th>4</th>\n",
       "      <td>24317958</td>\n",
       "      <td>The effect of four different irrigation system...</td>\n",
       "    </tr>\n",
       "  </tbody>\n",
       "</table>\n",
       "</div>"
      ],
      "text/plain": [
       "       PMID                                               text\n",
       "0  18337284  Once-daily amoxicillin versus twice-daily peni...\n",
       "1  24726342  Assessment of acute bronchodilator effects fro...\n",
       "2  20618920  Effectiveness of hygienic-dietary recommendati...\n",
       "3  16427787  Sleep-anticipating effects of melatonin in the...\n",
       "4  24317958  The effect of four different irrigation system..."
      ]
     },
     "execution_count": 3,
     "metadata": {},
     "output_type": "execute_result"
    }
   ],
   "source": [
    "df = pd.read_csv(\"50-sampled-RCTs.csv\")\n",
    "df.head()"
   ]
  },
  {
   "cell_type": "markdown",
   "metadata": {
    "collapsed": true
   },
   "source": [
    "Example (raw) text"
   ]
  },
  {
   "cell_type": "code",
   "execution_count": 37,
   "metadata": {
    "collapsed": false
   },
   "outputs": [
    {
     "name": "stdout",
     "output_type": "stream",
     "text": [
      "Once-daily amoxicillin versus twice-daily penicillin V in group A beta-haemolytic streptococcal pharyngitis.\n",
      "\n",
      "BACKGROUND Rheumatic fever is a preventable chronic disease preceded by group A beta-haemolytic streptococcal (GABHS) pharyngitis.\n",
      "OBJECTIVE To test the non-inferiority of once-daily (QD) oral amoxicillin to the recommended twice-daily (BID) oral penicillin V in GABHS pharyngitis.\n",
      "METHODS This was a randomised non-inferiority trial carried out in a school-based clinic in New Zealand. Children presenting with GABHS pharyngitis were randomised to oral amoxicillin 1500 mg QD (or 750 mg if bodyweight was <or=30 kg) or to oral penicillin V 500 mg BID (or 250 mg if bodyweight was <or=20 kg) for 10 days. Observed medication and weekend diary cards were used to monitor adherence.\n",
      "OUTCOME Eradication of GABHS, determined with follow-up throat cultures on days 3-6, 12-16 and 26-36. GABHS isolates were serotyped to distinguish bacteriological treatment failures (and relapses) from new acquisitions. Non-inferiority was defined as an upper 95% confidence limit (CL) for the difference in success of eradication in the amoxicillin and penicillin V treatment groups of <or=10%.\n",
      "RESULTS 353 children with positive throat swabs for GABHS were randomised to amoxicillin (n = 177) or penicillin V (n = 176). The upper 95% CL for the differences in positive cultures between the antibiotics was 4.9% at days 3-6, 6.5% at days 12-16 and 8.5% at days 26-36. Treatment failures (including relapses) occurred at each visit in 5.8%, 12.7% and 10.7% of amoxicillin recipients and 6.2%, 11.9% and 11.3% of penicillin V recipients, respectively. No significant differences in resolution of symptoms were noted between treatment groups. One case of unsubstantiated acute rheumatic fever occurred after 7 days of amoxicillin.\n",
      "CONCLUSION In this adequately powered study, once-daily oral amoxicillin is not inferior to twice-daily penicillin V for the treatment and eradication of GABHS in children with pharyngitis.\n",
      "\n",
      "\n"
     ]
    }
   ],
   "source": [
    "all_abstracts = df[\"text\"]\n",
    "print(all_abstracts[0])"
   ]
  },
  {
   "cell_type": "code",
   "execution_count": 32,
   "metadata": {
    "collapsed": true
   },
   "outputs": [],
   "source": [
    "def sentence_segment(a):\n",
    "    return [s.text for s in list(nlp(a).sents)]\n",
    "    "
   ]
  },
  {
   "cell_type": "code",
   "execution_count": 33,
   "metadata": {
    "collapsed": false
   },
   "outputs": [],
   "source": [
    "sentence_segmented_abstracts = [sentence_segment(a) for a in all_abstracts]"
   ]
  },
  {
   "cell_type": "code",
   "execution_count": 36,
   "metadata": {
    "collapsed": false
   },
   "outputs": [
    {
     "name": "stdout",
     "output_type": "stream",
     "text": [
      "Once-daily amoxicillin versus twice-daily penicillin V in group\n",
      "A beta-haemolytic streptococcal pharyngitis.\n",
      "\n",
      "\n",
      "BACKGROUND Rheumatic fever is a preventable chronic disease preceded by group A beta-haemolytic streptococcal (GABHS) pharyngitis.\n",
      "\n",
      "OBJECTIVE\n",
      "To test the non-inferiority of once-daily (QD) oral amoxicillin to the recommended twice-daily (BID) oral penicillin V in GABHS pharyngitis.\n",
      "\n",
      "METHODS\n",
      "This was a randomised non-inferiority trial carried out in a school-based clinic in New Zealand.\n",
      "Children presenting with GABHS pharyngitis were randomised to oral amoxicillin 1500 mg QD (or 750 mg if bodyweight was <or=30 kg) or to oral penicillin V 500 mg BID (or 250 mg if bodyweight was <or=20 kg) for 10 days.\n",
      "Observed medication and weekend diary cards were used to monitor adherence.\n",
      "\n",
      "OUTCOME Eradication of GABHS, determined with follow-up throat cultures on days 3-6, 12-16 and 26-36.\n",
      "GABHS isolates were serotyped to distinguish bacteriological treatment failures (and relapses) from new acquisitions.\n",
      "Non-inferiority was defined as an upper 95% confidence limit (CL) for the difference in success of eradication in the amoxicillin and penicillin V treatment groups of <or=10%.\n",
      "\n",
      "RESULTS\n",
      "353 children with positive throat swabs for GABHS were randomised to amoxicillin (n = 177) or penicillin V (n = 176).\n",
      "The upper 95% CL for the differences in positive cultures between the antibiotics was 4.9% at days 3-6, 6.5% at days 12-16 and 8.5% at days 26-36.\n",
      "Treatment failures (including relapses) occurred at each visit in 5.8%, 12.7% and 10.7% of amoxicillin recipients and 6.2%, 11.9% and 11.3% of penicillin V recipients, respectively.\n",
      "No significant differences in resolution of symptoms were noted between treatment groups.\n",
      "One case of unsubstantiated acute rheumatic fever occurred after 7 days of amoxicillin.\n",
      "\n",
      "CONCLUSION\n",
      "In this adequately powered study, once-daily oral amoxicillin is not inferior to twice-daily penicillin V for the treatment and eradication of GABHS in children with pharyngitis.\n",
      "\n",
      "\n"
     ]
    }
   ],
   "source": [
    "print(\"\\n\".join(sentence_segmented_abstracts[0]))"
   ]
  },
  {
   "cell_type": "markdown",
   "metadata": {},
   "source": [
    "Dump sentence segmented to a CSV, too. "
   ]
  },
  {
   "cell_type": "code",
   "execution_count": 38,
   "metadata": {
    "collapsed": true
   },
   "outputs": [],
   "source": [
    "pmids = list(df[\"PMID\"])\n",
    "sentence_pmids, sentence_ids, sentences = [], [], []\n",
    "for index, row in df.iterrows():\n",
    "    for sent_idx, sent in enumerate(sentence_segment(row[\"text\"])):\n",
    "        sentence_ids.append(sent_idx)\n",
    "        sentences.append(sent)\n",
    "        sentence_pmids.append(row[\"PMID\"]) # repeats once per sentence.\n"
   ]
  },
  {
   "cell_type": "code",
   "execution_count": 39,
   "metadata": {
    "collapsed": false
   },
   "outputs": [
    {
     "data": {
      "text/html": [
       "<div>\n",
       "<table border=\"1\" class=\"dataframe\">\n",
       "  <thead>\n",
       "    <tr style=\"text-align: right;\">\n",
       "      <th></th>\n",
       "      <th>PMID</th>\n",
       "      <th>sent-idx</th>\n",
       "      <th>sentence</th>\n",
       "    </tr>\n",
       "  </thead>\n",
       "  <tbody>\n",
       "    <tr>\n",
       "      <th>0</th>\n",
       "      <td>18337284</td>\n",
       "      <td>0</td>\n",
       "      <td>Once-daily amoxicillin versus twice-daily peni...</td>\n",
       "    </tr>\n",
       "    <tr>\n",
       "      <th>1</th>\n",
       "      <td>18337284</td>\n",
       "      <td>1</td>\n",
       "      <td>A beta-haemolytic streptococcal pharyngitis.\\n\\n</td>\n",
       "    </tr>\n",
       "    <tr>\n",
       "      <th>2</th>\n",
       "      <td>18337284</td>\n",
       "      <td>2</td>\n",
       "      <td>BACKGROUND Rheumatic fever is a preventable ch...</td>\n",
       "    </tr>\n",
       "    <tr>\n",
       "      <th>3</th>\n",
       "      <td>18337284</td>\n",
       "      <td>3</td>\n",
       "      <td>OBJECTIVE</td>\n",
       "    </tr>\n",
       "    <tr>\n",
       "      <th>4</th>\n",
       "      <td>18337284</td>\n",
       "      <td>4</td>\n",
       "      <td>To test the non-inferiority of once-daily (QD)...</td>\n",
       "    </tr>\n",
       "  </tbody>\n",
       "</table>\n",
       "</div>"
      ],
      "text/plain": [
       "       PMID  sent-idx                                           sentence\n",
       "0  18337284         0  Once-daily amoxicillin versus twice-daily peni...\n",
       "1  18337284         1   A beta-haemolytic streptococcal pharyngitis.\\n\\n\n",
       "2  18337284         2  BACKGROUND Rheumatic fever is a preventable ch...\n",
       "3  18337284         3                                          OBJECTIVE\n",
       "4  18337284         4  To test the non-inferiority of once-daily (QD)..."
      ]
     },
     "execution_count": 39,
     "metadata": {},
     "output_type": "execute_result"
    }
   ],
   "source": [
    "segmented_df = pd.DataFrame({\"PMID\":sentence_pmids, \"sent-idx\":sentence_ids, \"sentence\":sentences})\n",
    "segmented_df.head()"
   ]
  },
  {
   "cell_type": "code",
   "execution_count": null,
   "metadata": {
    "collapsed": true
   },
   "outputs": [],
   "source": []
  }
 ],
 "metadata": {
  "kernelspec": {
   "display_name": "Python 3",
   "language": "python",
   "name": "python3"
  },
  "language_info": {
   "codemirror_mode": {
    "name": "ipython",
    "version": 3
   },
   "file_extension": ".py",
   "mimetype": "text/x-python",
   "name": "python",
   "nbconvert_exporter": "python",
   "pygments_lexer": "ipython3",
   "version": "3.6.0"
  }
 },
 "nbformat": 4,
 "nbformat_minor": 2
}
